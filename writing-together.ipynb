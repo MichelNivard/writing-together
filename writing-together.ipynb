{
  "cells": [
    {
      "cell_type": "raw",
      "metadata": {},
      "source": [
        "---\n",
        "title: Writing Together with resolve\n",
        "subtitle: A Bridge Between Analysis and Synthesis\n",
        "author: Michel Nivard\n",
        "date: '2025-04-01'\n",
        "abstract: In today's data-centric world, writing has evolved beyond static pages. Many of us rely on code-enabled documents (think `.ipynb` notebooks or Quarto `.qmd` files) to combine text, data analysis, and visuals in one place. Yet these documents can alienate those who don't code. Those who shape ideas, refine language, or provide domain expertise—without touching the code. Resolve was developed to lower the barrier for non-coders, the synthesists, while keepig the dociment, and the text close to the source data, facilitating the analists. Resolve is an online texteditor developed with one goal in mind, broadening access to collaborative scientific and creative writing for everyone.\n",
        "format: html\n",
        "jupyter: ir\n",
        "bibliography: references.bib\n",
        "---"
      ]
    },
    {
      "cell_type": "code",
      "execution_count": null,
      "metadata": {
        "vscode": {
          "languageId": "r"
        }
      },
      "outputs": [],
      "source": [
        "#| echo: false\n",
        "library(ggplot2)\n",
        "library(gt)\n",
        "library(tibble)\n",
        "library(scales)"
      ]
    },
    {
      "cell_type": "markdown",
      "metadata": {},
      "source": [
        "# 1. Scientific writing, is changing\n",
        "\n",
        "For centuries, writing was linear: authors wrote prose, revisers edited text, and printers reproduced static pages. Then computers arrived, and documents became far more dynamic. Digitisation eased revision, and collaboration, email further sped up collaboration, obviating the need for any physical transfer from one collaborator to another.\n",
        "\n",
        "Digitisation further brought writing, and data analysis to a single place, our PC as are portal to our writings and our data analysis. Though specialized tools evolved separately and for most to this day, data analysis and writing are isolated activities.\n",
        "\n",
        "## 1.2 Literate Programming for All\n",
        "\n",
        "**Knuth** introduced the idea of literate programming decades ago[@knuth1984]: the premise that our code and our explanation shouldn’t live in separate corners. Now, with data-driven science at the forefront, there’s a dire need for writers, editors, domain experts, journalists—to join the conversation without drowning in code. By bridging that gap, we empower more voices and guarantee a more inclusive final results. Trough literate programming enables **mixing words and data**— in science and journalism.\n",
        "\n",
        "## 1.3 The Rise of Code-Enabled Authoring\n",
        "\n",
        "Many of today's data analysis tools, like Jupyter notebooks (`.ipynb`) and Quarto (`.qmd`) let us weave code and and text into a single document. Literate programming, merges narrative and computation, letting readers follow the logic behind every figure and result. It's a powerful concept: you write your story while code chunks generate your tables, plots, or transformations in real time.\n",
        "\n",
        "## 1.4 Analysis, balanced by synthesis.\n",
        "\n",
        "Literate programming, as conceived currently, can still **intimidate or exclude** those who: - Don’t code daily (or at all). - Don’t know why `import numpy as np` or `library(ggplot2)` feature in the main text. Literate programming takes place in code oriented text editors, or in explicit programming tools like integrated development environments (IDEs). Its and effort to meet halfway between data an prose, but why meet halfway when we can have it both ways?\n",
        "\n",
        "Data analysis isn't the only analysis that goes into scientific production, and its fundamentally limited when offered without synthesis. In the humanities analysis is understood differently, as part of a holistic process, a method:\n",
        "\n",
        "> \"The art of arranging a series of thoughts properly, either for discovering the truth when we do not know it, or for proving to others what we already know, can generally be called method. Hence there are two kinds of method, one for discovering the truth, which is known as analysis, or the method of resolution, and which can also be called the method of discovery. The other is for making the truth understood by others once it is found. This is known as synthesis, or the method of composition, and can also be called the method of instruction.\" [@arnauld1996]\n",
        "\n",
        "Literate programming brings code and prose closer together, but literate programming still happens in technical squarely in the domain of the analyst, we need to meet those who synthesis for a living, the synthesists, in their comfort zone: the text editor.\n",
        "\n",
        "## 1.5 A Need for a Bridge\n",
        "\n",
        "We don’t necessarily want to replace notebooks or computational markup languages like quarto. They already do a superb job of uniting text and analysis. Instead, I we need a **gentle wrapper**—a place where non-coders can come in, highlight a paragraph, reorganize headings, or refine language. Think a “word processor layer” over literate programming. The file remains a `.ipynb` notebook at heart, but collaborators edits trough a friendlier interface, and interface that offers the creature comfort of a modern word editor, like tracked changes and comments.\n",
        "\n",
        "# 2. The Future of Collaborative Writing\n",
        "\n",
        "What might this look like in practice? Let’s do some quick examples of what we can embed with Quarto—just to illustrate how writing meets data. Imagine each chunk of code is hidden from those who don't need it, but they can still rearrange or comment on the output.\n",
        "\n",
        "## 2.1 A Simple R-Driven Figure"
      ]
    },
    {
      "cell_type": "code",
      "execution_count": null,
      "metadata": {
        "vscode": {
          "languageId": "r"
        }
      },
      "outputs": [],
      "source": [
        "ggplot(mtcars, aes(x = hp, y = mpg)) +\n",
        "  geom_point(color = \"steelblue\", size=3) +\n",
        "  geom_smooth(method=\"lm\", color=\"orange\", se=FALSE) +\n",
        "  theme_minimal() +\n",
        "  labs(\n",
        "    title = \"Miles per Gallon vs. Horsepower\",\n",
        "    x = \"Horsepower\",\n",
        "    y = \"Miles per Gallon\"\n",
        "  )"
      ]
    },
    {
      "cell_type": "markdown",
      "metadata": {},
      "source": [
        "For the coder: trivial. For the writing-oriented collaborator: they just see a neat scatter plot. They can rename the caption, move the figure, or add commentary. They don’t even need to see how the sausage (code) was made.\n",
        "\n",
        "## 2.2 Neat tables"
      ]
    },
    {
      "cell_type": "code",
      "execution_count": null,
      "metadata": {
        "vscode": {
          "languageId": "r"
        }
      },
      "outputs": [],
      "source": [
        "dimnames <- list(start(nottem)[1]:end(nottem)[1], month.abb)\n",
        "temps <- matrix(nottem, ncol = 12, byrow = TRUE, dimnames = dimnames) %>% \n",
        "  data.frame() %>% \n",
        "  tibble::rownames_to_column() %>% \n",
        "  head(10)\n",
        "\n",
        "temps %>% \n",
        "  gt() %>% \n",
        "  data_color(\n",
        "    columns = c(Jan, Feb, Mar, Apr, May, Jun, Jul, Aug, Sep, Oct, Nov, Dec),\n",
        "    fn = col_numeric(\n",
        "      palette = c(\"#63be7b\", \"#ffeb84\", \"#f87274\"),\n",
        "      domain = range(nottem)\n",
        "    )\n",
        "  )"
      ]
    },
    {
      "cell_type": "markdown",
      "metadata": {},
      "source": [
        "Again, for the coder: “Sure, I group by `cyl` and do some summarizing.” For the writing collaborator: “Great, I see a summary table; let me rephrase the caption, reorder the columns if needed.” They never have to worry about R syntax.\n",
        "\n",
        "## 2.3 Standalone Math\n",
        "\n",
        "$$\\text{Bernoulli's Principle: } P + \\tfrac{1}{2}\\rho v^2 + \\rho g h = \\text{constant}$$\n",
        "\n",
        "Resolve handles LaTeX or MathJax equation notation gracefully, so your Math professor can step in and fix those subscripts before you hit publish.\n",
        "\n",
        "# 3. Embracing the Best of Both Worlds\n",
        "\n",
        "So where does this conversation lead us?\n",
        "\n",
        "-   **We Don’t** Need Another Format: `.ipynb` and `.qmd` are fine. They do what we want: integrate code, text, references, analysis.\n",
        "-   **We Do** Want a More Welcoming Interface: Something that hides technical overhead from those who just want to handle the final doc’s logic, structure, or language.\n",
        "-   My solution: [resolve.pub](www.resolve.pub)\n",
        "\n",
        "### 3.1 What *IS* Resolve?\n",
        "\n",
        "Resolve is an **online rich text editor, that can open, edit and save any `.ipynb` file you have access to on GItHub.**\n",
        "\n",
        "1.  Resolve is a superset of `.ipynb` , it saves a rich texteditor for each markdown cell within the cell's metadata\n",
        "\n",
        "2.  Resolve comes with comments, and track changes and the look and feel of a text editor.\n",
        "\n",
        "3.  Resolve edited `.ipynb` files remain within spec, which means you can open and run them in your favorite IDE.\n",
        "\n",
        "    (Though comments, track changes are only visible within resolve)\n",
        "\n",
        "4.  To accommodate Quarto (`.qmd`) resolve gracefully handles the YAML frontmatter and, in a future update, will render output directly to GitHub.\n",
        "\n",
        "# 4. Final Thoughts\n",
        "\n",
        "**Writing** has always been about blending ideas and narratives. **Data-driven** writing just ups the stakes: we want code, figures, references, and text to live together. If we want a truly inclusive environment for all collaborators—**coders and non-coders**—then the future of literate programming must be about removing barriers. We keep `.ipynb`, `.qmd`, etc., but wrap them in a frictionless interface that empowers everyone.\n",
        "\n",
        "> In the end, it’s not about replacing the notebook or Quarto—it’s about acknowledging that writing, especially scientific writing, is a team sport. And teams have all sorts of players. Let’s invite them all to the same field, with a common language they can actually use."
      ]
    }
  ],
  "metadata": {
    "kernelspec": {
      "display_name": "R",
      "language": "R",
      "name": "ir",
      "path": "/Users/michelnivard/Library/Jupyter/kernels/ir"
    },
    "language_info": {
      "name": "raw"
    }
  },
  "nbformat": 4,
  "nbformat_minor": 4
}
